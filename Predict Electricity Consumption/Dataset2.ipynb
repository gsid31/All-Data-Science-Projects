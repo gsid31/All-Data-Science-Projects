{
 "cells": [
  {
   "cell_type": "markdown",
   "metadata": {},
   "source": [
    "# Part 0 : Import data cleaning, separation of training and validation data set"
   ]
  },
  {
   "cell_type": "code",
   "execution_count": 50,
   "metadata": {},
   "outputs": [],
   "source": [
    "import pandas as pd\n",
    "import sklearn\n",
    "from sklearn.preprocessing import MinMaxScaler\n",
    "scaler = MinMaxScaler()\n",
    "from sklearn.model_selection import train_test_split\n",
    "from sklearn.neural_network import MLPClassifier\n",
    "from sklearn.metrics import accuracy_score \n",
    "import numpy as np\n",
    "from pylab import plt\n",
    "from pylab import subplot\n",
    "from sklearn.metrics import confusion_matrix\n",
    "\n",
    "from sklearn.neighbors import KNeighborsClassifier\n",
    "from sklearn.model_selection import cross_val_score"
   ]
  },
  {
   "cell_type": "code",
   "execution_count": 51,
   "metadata": {},
   "outputs": [],
   "source": [
    "counter_strike_data = pd.read_csv(\"CSGOComplete.csv\")"
   ]
  },
  {
   "cell_type": "code",
   "execution_count": 52,
   "metadata": {},
   "outputs": [],
   "source": [
    "#Data Cleaning\n",
    "counter_strike_data  = counter_strike_data.drop(['Day','Month','Year','Date'] , axis = 1)\n",
    "x_counter_strike_data = counter_strike_data.drop(labels = ['Result'],axis = 1)\n",
    "y_counter_strike_data = counter_strike_data[['Result']]"
   ]
  },
  {
   "cell_type": "code",
   "execution_count": 53,
   "metadata": {
    "scrolled": true
   },
   "outputs": [
    {
     "name": "stderr",
     "output_type": "stream",
     "text": [
      "c:\\users\\siddharth\\appdata\\local\\programs\\python\\python37-32\\lib\\site-packages\\IPython\\core\\interactiveshell.py:3296: SettingWithCopyWarning: \n",
      "A value is trying to be set on a copy of a slice from a DataFrame\n",
      "\n",
      "See the caveats in the documentation: http://pandas.pydata.org/pandas-docs/stable/indexing.html#indexing-view-versus-copy\n",
      "  exec(code_obj, self.user_global_ns, self.user_ns)\n",
      "c:\\users\\siddharth\\appdata\\local\\programs\\python\\python37-32\\lib\\site-packages\\ipykernel_launcher.py:7: SettingWithCopyWarning: \n",
      "A value is trying to be set on a copy of a slice from a DataFrame\n",
      "\n",
      "See the caveats in the documentation: http://pandas.pydata.org/pandas-docs/stable/indexing.html#indexing-view-versus-copy\n",
      "  import sys\n",
      "c:\\users\\siddharth\\appdata\\local\\programs\\python\\python37-32\\lib\\site-packages\\ipykernel_launcher.py:5: SettingWithCopyWarning: \n",
      "A value is trying to be set on a copy of a slice from a DataFrame\n",
      "\n",
      "See the caveats in the documentation: http://pandas.pydata.org/pandas-docs/stable/indexing.html#indexing-view-versus-copy\n",
      "  \"\"\"\n",
      "c:\\users\\siddharth\\appdata\\local\\programs\\python\\python37-32\\lib\\site-packages\\ipykernel_launcher.py:9: SettingWithCopyWarning: \n",
      "A value is trying to be set on a copy of a slice from a DataFrame\n",
      "\n",
      "See the caveats in the documentation: http://pandas.pydata.org/pandas-docs/stable/indexing.html#indexing-view-versus-copy\n",
      "  if __name__ == '__main__':\n"
     ]
    }
   ],
   "source": [
    "y_counter_strike_data = y_counter_strike_data['Result']\n",
    "len_yResult = len(y_counter_strike_data)\n",
    "for i in range(0, len_yResult):\n",
    "    if(y_counter_strike_data[i] == 'Win'):\n",
    "        y_counter_strike_data[i] = '1'\n",
    "    elif(y_counter_strike_data[i] == 'Lost'):\n",
    "        y_counter_strike_data[i] = '0'\n",
    "    elif(y_counter_strike_data[i]== 'Tie'):\n",
    "        y_counter_strike_data[i] = '2'"
   ]
  },
  {
   "cell_type": "code",
   "execution_count": 54,
   "metadata": {},
   "outputs": [],
   "source": [
    "colNames = x_counter_strike_data.columns\n",
    "\n",
    "for i in range(0, len(colNames)):\n",
    "    if(colNames[i]!=\"Map\"):\n",
    "        x_counter_strike_data[colNames[i]] = scaler.fit_transform(x_counter_strike_data[colNames[i]]\n",
    "                                                             .values.reshape(-1,1))"
   ]
  },
  {
   "cell_type": "code",
   "execution_count": 55,
   "metadata": {},
   "outputs": [
    {
     "name": "stderr",
     "output_type": "stream",
     "text": [
      "c:\\users\\siddharth\\appdata\\local\\programs\\python\\python37-32\\lib\\site-packages\\ipykernel_launcher.py:6: SettingWithCopyWarning: \n",
      "A value is trying to be set on a copy of a slice from a DataFrame\n",
      "\n",
      "See the caveats in the documentation: http://pandas.pydata.org/pandas-docs/stable/indexing.html#indexing-view-versus-copy\n",
      "  \n",
      "c:\\users\\siddharth\\appdata\\local\\programs\\python\\python37-32\\lib\\site-packages\\ipykernel_launcher.py:8: SettingWithCopyWarning: \n",
      "A value is trying to be set on a copy of a slice from a DataFrame\n",
      "\n",
      "See the caveats in the documentation: http://pandas.pydata.org/pandas-docs/stable/indexing.html#indexing-view-versus-copy\n",
      "  \n",
      "c:\\users\\siddharth\\appdata\\local\\programs\\python\\python37-32\\lib\\site-packages\\ipykernel_launcher.py:10: SettingWithCopyWarning: \n",
      "A value is trying to be set on a copy of a slice from a DataFrame\n",
      "\n",
      "See the caveats in the documentation: http://pandas.pydata.org/pandas-docs/stable/indexing.html#indexing-view-versus-copy\n",
      "  # Remove the CWD from sys.path while we load stuff.\n",
      "c:\\users\\siddharth\\appdata\\local\\programs\\python\\python37-32\\lib\\site-packages\\ipykernel_launcher.py:12: SettingWithCopyWarning: \n",
      "A value is trying to be set on a copy of a slice from a DataFrame\n",
      "\n",
      "See the caveats in the documentation: http://pandas.pydata.org/pandas-docs/stable/indexing.html#indexing-view-versus-copy\n",
      "  if sys.path[0] == '':\n",
      "c:\\users\\siddharth\\appdata\\local\\programs\\python\\python37-32\\lib\\site-packages\\ipykernel_launcher.py:14: SettingWithCopyWarning: \n",
      "A value is trying to be set on a copy of a slice from a DataFrame\n",
      "\n",
      "See the caveats in the documentation: http://pandas.pydata.org/pandas-docs/stable/indexing.html#indexing-view-versus-copy\n",
      "  \n",
      "c:\\users\\siddharth\\appdata\\local\\programs\\python\\python37-32\\lib\\site-packages\\ipykernel_launcher.py:16: SettingWithCopyWarning: \n",
      "A value is trying to be set on a copy of a slice from a DataFrame\n",
      "\n",
      "See the caveats in the documentation: http://pandas.pydata.org/pandas-docs/stable/indexing.html#indexing-view-versus-copy\n",
      "  app.launch_new_instance()\n",
      "c:\\users\\siddharth\\appdata\\local\\programs\\python\\python37-32\\lib\\site-packages\\ipykernel_launcher.py:18: SettingWithCopyWarning: \n",
      "A value is trying to be set on a copy of a slice from a DataFrame\n",
      "\n",
      "See the caveats in the documentation: http://pandas.pydata.org/pandas-docs/stable/indexing.html#indexing-view-versus-copy\n",
      "c:\\users\\siddharth\\appdata\\local\\programs\\python\\python37-32\\lib\\site-packages\\ipykernel_launcher.py:20: SettingWithCopyWarning: \n",
      "A value is trying to be set on a copy of a slice from a DataFrame\n",
      "\n",
      "See the caveats in the documentation: http://pandas.pydata.org/pandas-docs/stable/indexing.html#indexing-view-versus-copy\n",
      "c:\\users\\siddharth\\appdata\\local\\programs\\python\\python37-32\\lib\\site-packages\\ipykernel_launcher.py:22: SettingWithCopyWarning: \n",
      "A value is trying to be set on a copy of a slice from a DataFrame\n",
      "\n",
      "See the caveats in the documentation: http://pandas.pydata.org/pandas-docs/stable/indexing.html#indexing-view-versus-copy\n",
      "c:\\users\\siddharth\\appdata\\local\\programs\\python\\python37-32\\lib\\site-packages\\ipykernel_launcher.py:24: SettingWithCopyWarning: \n",
      "A value is trying to be set on a copy of a slice from a DataFrame\n",
      "\n",
      "See the caveats in the documentation: http://pandas.pydata.org/pandas-docs/stable/indexing.html#indexing-view-versus-copy\n"
     ]
    }
   ],
   "source": [
    "mapColumn = x_counter_strike_data['Map']\n",
    "mapColumnLen = len(x_counter_strike_data['Map'])\n",
    "\n",
    "for i in range(0,mapColumnLen):\n",
    "    if(mapColumn[i] == 'Mirage'):\n",
    "        mapColumn[i] = 0\n",
    "    elif(mapColumn[i] == 'Dust II'):\n",
    "        mapColumn[i] = 1\n",
    "    elif(mapColumn[i] == 'Cache'):\n",
    "        mapColumn[i] = 2\n",
    "    elif(mapColumn[i] == 'Overpass'):\n",
    "        mapColumn[i] = 3\n",
    "    elif(mapColumn[i] == 'Cobblestone'):\n",
    "        mapColumn[i] = 4\n",
    "    elif(mapColumn[i] == 'Inferno'):\n",
    "        mapColumn[i] = 5\n",
    "    elif(mapColumn[i] == 'Austria'):\n",
    "        mapColumn[i] = 6\n",
    "    elif(mapColumn[i] == 'Canals'):\n",
    "        mapColumn[i] = 7\n",
    "    elif(mapColumn[i] == 'Nuke'):\n",
    "        mapColumn[i] = 8\n",
    "    elif(mapColumn[i] == 'Italy'):\n",
    "        mapColumn[i] = 9"
   ]
  },
  {
   "cell_type": "code",
   "execution_count": 56,
   "metadata": {},
   "outputs": [],
   "source": [
    "X_Train, X_Test, Y_Train, Y_Test = train_test_split(x_counter_strike_data, y_counter_strike_data, test_size=0.3,\n",
    "                                                   random_state=1)"
   ]
  },
  {
   "cell_type": "markdown",
   "metadata": {},
   "source": [
    "# KNN Algorithm"
   ]
  },
  {
   "cell_type": "markdown",
   "metadata": {},
   "source": [
    "# Part 1(i) : KNN Algorithm - Training Data"
   ]
  },
  {
   "cell_type": "code",
   "execution_count": 57,
   "metadata": {},
   "outputs": [
    {
     "name": "stdout",
     "output_type": "stream",
     "text": [
      "Done: 1 / 48\n",
      "Done: 2 / 48\n",
      "Done: 3 / 48\n",
      "Done: 4 / 48\n",
      "Done: 5 / 48\n",
      "Done: 6 / 48\n",
      "Done: 7 / 48\n",
      "Done: 8 / 48\n",
      "Done: 9 / 48\n",
      "Done: 10 / 48\n",
      "Done: 11 / 48\n",
      "Done: 12 / 48\n",
      "Done: 13 / 48\n",
      "Done: 14 / 48\n",
      "Done: 15 / 48\n",
      "Done: 16 / 48\n",
      "Done: 17 / 48\n",
      "Done: 18 / 48\n",
      "Done: 19 / 48\n",
      "Done: 20 / 48\n",
      "Done: 21 / 48\n",
      "Done: 22 / 48\n",
      "Done: 23 / 48\n",
      "Done: 24 / 48\n",
      "Done: 25 / 48\n",
      "Done: 26 / 48\n",
      "Done: 27 / 48\n",
      "Done: 28 / 48\n",
      "Done: 29 / 48\n",
      "Done: 30 / 48\n",
      "Done: 31 / 48\n",
      "Done: 32 / 48\n",
      "Done: 33 / 48\n",
      "Done: 34 / 48\n",
      "Done: 35 / 48\n",
      "Done: 36 / 48\n",
      "Done: 37 / 48\n",
      "Done: 38 / 48\n",
      "Done: 39 / 48\n",
      "Done: 40 / 48\n",
      "Done: 41 / 48\n",
      "Done: 42 / 48\n",
      "Done: 43 / 48\n",
      "Done: 44 / 48\n",
      "Done: 45 / 48\n",
      "Done: 46 / 48\n",
      "Done: 47 / 48\n",
      "Done: 48 / 48\n"
     ]
    }
   ],
   "source": [
    "metrics_list = ['euclidean','manhattan','chebyshev']\n",
    "algorithm_list = ['ball_tree','kd_tree']\n",
    "number_of_neighbors = [2,3,4,5,6,7,8,9]\n",
    "\n",
    "final_metrics = []\n",
    "final_algo_list = []\n",
    "final_neighbors = []\n",
    "final_accuracyList = []\n",
    "\n",
    "\n",
    "step = 0\n",
    "for i in range (0,len(metrics_list)):\n",
    "    for j in range (0,len(algorithm_list)):\n",
    "        for k in range (0,len(number_of_neighbors)):\n",
    "            neigh = KNeighborsClassifier(metric=metrics_list[i],\n",
    "                                         algorithm  = algorithm_list[j],\n",
    "                                         n_neighbors=number_of_neighbors[k]\n",
    "                                         )\n",
    "            neigh.fit(X_Train, Y_Train)\n",
    "            predicted_classes = neigh.predict(X_Train)\n",
    "            accuracyValue = accuracy_score(Y_Train,predicted_classes)\n",
    "            \n",
    "            final_metrics.append(metrics_list[i])\n",
    "            final_algo_list.append(algorithm_list[j])\n",
    "            final_neighbors.append(number_of_neighbors[k])\n",
    "            \n",
    "            final_accuracyList.append(accuracyValue)\n",
    "            step = step+1\n",
    "            print(\"Done:\",(step),\"/\",(len(algorithm_list) * len(metrics_list) * len(number_of_neighbors) ) )"
   ]
  },
  {
   "cell_type": "markdown",
   "metadata": {},
   "source": [
    "# Part 1(ii) : KNN Algorithm - Training Data - Plot"
   ]
  },
  {
   "cell_type": "code",
   "execution_count": 58,
   "metadata": {},
   "outputs": [
    {
     "data": {
      "image/png": "[encoded data removed]",
      "text/plain": [
       "<Figure size 1440x360 with 3 Axes>"
      ]
     },
     "metadata": {
      "needs_background": "light"
     },
     "output_type": "display_data"
    }
   ],
   "source": [
    "#Identity graph\n",
    "steps = np.arange(2,10,1)\n",
    "\n",
    "\n",
    "plt.figure(figsize=(20,5))\n",
    "subplot(1,3,1)\n",
    "plt.plot(steps, final_accuracyList[0:8], color='red', label='Ball tree algorithm')\n",
    "plt.plot(steps, final_accuracyList[8:16], color='green', label='KD tree algorithm')\n",
    "plt.ylim(0.70,0.9,0.01)\n",
    "plt.xlabel('Number of neighbors')\n",
    "plt.ylabel('Accuracy')\n",
    "plt.legend()\n",
    "plt.title('Euclidean', y=-0.25)\n",
    "\n",
    "subplot(1,3,2)\n",
    "plt.plot(steps, final_accuracyList[16:24], color='red', label='Ball tree algorithm')\n",
    "plt.plot(steps, final_accuracyList[24:32], color='green', label='KD tree algorithm')\n",
    "plt.ylim(0.70,0.9,0.01)\n",
    "plt.xlabel('Number of neighbors')\n",
    "plt.ylabel('Accuracy')\n",
    "plt.legend()\n",
    "plt.title('Manhattan', y=-0.25)\n",
    "\n",
    "subplot(1,3,3)\n",
    "plt.plot(steps, final_accuracyList[32:40], color='red', label='Ball tree algorithm')\n",
    "plt.plot(steps, final_accuracyList[40:48], color='green', label='KD tree algorithm')\n",
    "plt.ylim(0.70,0.9,0.01)\n",
    "plt.xlabel('Number of neighbors')\n",
    "plt.ylabel('Accuracy')\n",
    "plt.legend()\n",
    "plt.title('Chebyshev ', y=-0.25)\n",
    "\n",
    "\n",
    "plt.show()"
   ]
  },
  {
   "cell_type": "markdown",
   "metadata": {},
   "source": [
    "# Part 2(i) -  KNN Algorithm - Validation Data"
   ]
  },
  {
   "cell_type": "code",
   "execution_count": 59,
   "metadata": {
    "scrolled": true
   },
   "outputs": [
    {
     "name": "stdout",
     "output_type": "stream",
     "text": [
      "Done: 1 / 48\n",
      "Done: 2 / 48\n",
      "Done: 3 / 48\n",
      "Done: 4 / 48\n",
      "Done: 5 / 48\n",
      "Done: 6 / 48\n",
      "Done: 7 / 48\n",
      "Done: 8 / 48\n",
      "Done: 9 / 48\n",
      "Done: 10 / 48\n",
      "Done: 11 / 48\n",
      "Done: 12 / 48\n",
      "Done: 13 / 48\n",
      "Done: 14 / 48\n",
      "Done: 15 / 48\n",
      "Done: 16 / 48\n",
      "Done: 17 / 48\n",
      "Done: 18 / 48\n",
      "Done: 19 / 48\n",
      "Done: 20 / 48\n",
      "Done: 21 / 48\n",
      "Done: 22 / 48\n",
      "Done: 23 / 48\n",
      "Done: 24 / 48\n",
      "Done: 25 / 48\n",
      "Done: 26 / 48\n",
      "Done: 27 / 48\n",
      "Done: 28 / 48\n",
      "Done: 29 / 48\n",
      "Done: 30 / 48\n",
      "Done: 31 / 48\n",
      "Done: 32 / 48\n",
      "Done: 33 / 48\n",
      "Done: 34 / 48\n",
      "Done: 35 / 48\n",
      "Done: 36 / 48\n",
      "Done: 37 / 48\n",
      "Done: 38 / 48\n",
      "Done: 39 / 48\n",
      "Done: 40 / 48\n",
      "Done: 41 / 48\n",
      "Done: 42 / 48\n",
      "Done: 43 / 48\n",
      "Done: 44 / 48\n",
      "Done: 45 / 48\n",
      "Done: 46 / 48\n",
      "Done: 47 / 48\n",
      "Done: 48 / 48\n"
     ]
    }
   ],
   "source": [
    "metrics_list = ['euclidean','manhattan','chebyshev']\n",
    "algorithm_list = ['ball_tree','kd_tree']\n",
    "number_of_neighbors = [2,3,4,5,6,7,8,9]\n",
    "\n",
    "final_metrics = []\n",
    "final_algo_list = []\n",
    "final_neighbors = []\n",
    "final_accuracyList = []\n",
    "\n",
    "\n",
    "step = 0\n",
    "for i in range (0,len(metrics_list)):\n",
    "    for j in range (0,len(algorithm_list)):\n",
    "        for k in range (0,len(number_of_neighbors)):\n",
    "            neigh = KNeighborsClassifier(metric=metrics_list[i],\n",
    "                                         algorithm  = algorithm_list[j],\n",
    "                                         n_neighbors=number_of_neighbors[k]\n",
    "                                         )\n",
    "            neigh.fit(X_Train, Y_Train)\n",
    "            predicted_classes = neigh.predict(X_Test)\n",
    "            accuracyValue = accuracy_score(Y_Test,predicted_classes)\n",
    "            \n",
    "            final_metrics.append(metrics_list[i])\n",
    "            final_algo_list.append(algorithm_list[j])\n",
    "            final_neighbors.append(number_of_neighbors[k])\n",
    "            \n",
    "            final_accuracyList.append(accuracyValue)\n",
    "            step = step+1\n",
    "            print(\"Done:\",(step),\"/\",(len(algorithm_list) * len(metrics_list) * len(number_of_neighbors) ) )"
   ]
  },
  {
   "cell_type": "markdown",
   "metadata": {},
   "source": [
    "# Part 2(ii) -  KNN Algorithm - Validation Data - Plot"
   ]
  },
  {
   "cell_type": "code",
   "execution_count": 60,
   "metadata": {},
   "outputs": [
    {
     "data": {
      "image/png": "[encoded data removed]",
      "text/plain": [
       "<Figure size 1440x360 with 3 Axes>"
      ]
     },
     "metadata": {
      "needs_background": "light"
     },
     "output_type": "display_data"
    }
   ],
   "source": [
    "#Identity graph\n",
    "steps = np.arange(2,10,1)\n",
    "\n",
    "\n",
    "plt.figure(figsize=(20,5))\n",
    "subplot(1,3,1)\n",
    "plt.plot(steps, final_accuracyList[0:8], color='red', label='Ball tree algorithm')\n",
    "plt.plot(steps, final_accuracyList[8:16], color='green', label='KD tree algorithm')\n",
    "plt.ylim(0.60,0.80,0.01)\n",
    "plt.xlabel('Number of neighbors')\n",
    "plt.ylabel('Accuracy')\n",
    "plt.legend()\n",
    "plt.title('Euclidean', y=-0.25)\n",
    "\n",
    "subplot(1,3,2)\n",
    "plt.plot(steps, final_accuracyList[16:24], color='red', label='Ball tree algorithm')\n",
    "plt.plot(steps, final_accuracyList[24:32], color='green', label='KD tree algorithm')\n",
    "plt.ylim(0.60,0.80,0.01)\n",
    "plt.xlabel('Number of neighbors')\n",
    "plt.ylabel('Accuracy')\n",
    "plt.legend()\n",
    "plt.title('Manhattan', y=-0.25)\n",
    "\n",
    "subplot(1,3,3)\n",
    "plt.plot(steps, final_accuracyList[32:40], color='red', label='Ball tree algorithm')\n",
    "plt.plot(steps, final_accuracyList[40:48], color='green', label='KD tree algorithm')\n",
    "plt.ylim(0.60,0.80,0.01)\n",
    "plt.xlabel('Number of neighbors')\n",
    "plt.ylabel('Accuracy')\n",
    "plt.legend()\n",
    "plt.title('Chebyshev ', y=-0.25)\n",
    "\n",
    "\n",
    "plt.show()"
   ]
  },
  {
   "cell_type": "markdown",
   "metadata": {},
   "source": [
    "# Part 3(i) - Chart for train data size vs Accuracy"
   ]
  },
  {
   "cell_type": "code",
   "execution_count": 61,
   "metadata": {},
   "outputs": [
    {
     "data": {
      "image/png": "[encoded data removed]",
      "text/plain": [
       "<Figure size 1440x360 with 1 Axes>"
      ]
     },
     "metadata": {
      "needs_background": "light"
     },
     "output_type": "display_data"
    }
   ],
   "source": [
    "neigh = KNeighborsClassifier(metric='manhattan',algorithm  = 'ball_tree',n_neighbors=3)\n",
    "rangeValues = [300,400,500,600,700]\n",
    "accuracy_train_size = []\n",
    "for i in range(0,len(rangeValues)):\n",
    "    neigh.fit(X_Train[0:rangeValues[i]], Y_Train[0:rangeValues[i]])\n",
    "    predicted_classes = neigh.predict(X_Test[0:rangeValues[i]])\n",
    "    accuracyValue = accuracy_score(Y_Test[0:rangeValues[i]],predicted_classes)\n",
    "    accuracy_train_size.append(accuracyValue)\n",
    "#graph\n",
    "plt.figure(figsize=(20,5))\n",
    "subplot(1,1,1)\n",
    "plt.plot(rangeValues, accuracy_train_size, color='red', label='Size of train data')\n",
    "\n",
    "plt.xlabel('Train size')\n",
    "plt.ylabel('Accuracy')\n",
    "plt.legend()\n",
    "plt.title('Train data vs Accuracy', y=-0.25)\n",
    "\n",
    "plt.show()"
   ]
  },
  {
   "cell_type": "markdown",
   "metadata": {},
   "source": [
    "# Part 3(ii) - Cross validation"
   ]
  },
  {
   "cell_type": "code",
   "execution_count": 62,
   "metadata": {},
   "outputs": [
    {
     "data": {
      "image/png": "[encoded data removed]",
      "text/plain": [
       "<Figure size 1440x360 with 1 Axes>"
      ]
     },
     "metadata": {
      "needs_background": "light"
     },
     "output_type": "display_data"
    }
   ],
   "source": [
    "neigh = KNeighborsClassifier(metric='manhattan',algorithm  = 'ball_tree',n_neighbors=3)\n",
    "neigh.fit(X_Train, Y_Train)\n",
    "score = cross_val_score(neigh,X_Train,Y_Train, cv=5,scoring='accuracy')\n",
    "steps = [1,2,3,4,5]\n",
    "#graph\n",
    "plt.figure(figsize=(20,5))\n",
    "subplot(1,1,1)\n",
    "plt.plot(steps, score, color='red')\n",
    "\n",
    "plt.xlabel('Cross')\n",
    "plt.ylabel('Accuracy')\n",
    "plt.title('Cross validation', y=-0.25)\n",
    "\n",
    "plt.show()"
   ]
  },
  {
   "cell_type": "markdown",
   "metadata": {},
   "source": [
    "# Part 4(i) Confusion Matrix"
   ]
  },
  {
   "cell_type": "code",
   "execution_count": 63,
   "metadata": {},
   "outputs": [
    {
     "data": {
      "text/plain": [
       "array([[134,  37,   6],\n",
       "       [ 40,  97,   2],\n",
       "       [  6,   3,  15]], dtype=int64)"
      ]
     },
     "execution_count": 63,
     "metadata": {},
     "output_type": "execute_result"
    }
   ],
   "source": [
    "neigh = KNeighborsClassifier(metric='manhattan',\n",
    "                                         algorithm  = 'ball_tree',\n",
    "                                         n_neighbors=3\n",
    "                                         )\n",
    "neigh.fit(X_Train, Y_Train)\n",
    "predicted_classes = neigh.predict(X_Test)\n",
    "\n",
    "cm = confusion_matrix(Y_Test, predicted_classes)\n",
    "cm"
   ]
  },
  {
   "cell_type": "markdown",
   "metadata": {},
   "source": [
    "# Part 4(ii) Other parameters"
   ]
  },
  {
   "cell_type": "code",
   "execution_count": 64,
   "metadata": {},
   "outputs": [
    {
     "name": "stdout",
     "output_type": "stream",
     "text": [
      "Accuracy 0.6794117647058824\n",
      "Sensitivity 0.708029197080292\n",
      "Specificity 0.783625730994152\n",
      "Precision 0.7238805970149254\n"
     ]
    }
   ],
   "source": [
    "print(\"Accuracy\", (cm[1][1] + cm[0][0]) / np.sum(cm) )\n",
    "print(\"Sensitivity\", cm[1][1] / (cm[1][1] + cm[1][0] ))\n",
    "print(\"Specificity\", cm[0][0] / (cm[0][0] + cm[0][1] ))\n",
    "print(\"Precision\", cm[1][1] / (cm[1][1] + cm[0][1] ))"
   ]
  },
  {
   "cell_type": "markdown",
   "metadata": {},
   "source": [
    "# Neural Networks"
   ]
  },
  {
   "cell_type": "markdown",
   "metadata": {},
   "source": [
    "# Part 1(i) : Training set - Activation Functions, Number of nodes, Hidden layers - 1 hidden layers and respective units in the hidden layer"
   ]
  },
  {
   "cell_type": "code",
   "execution_count": 65,
   "metadata": {
    "scrolled": true
   },
   "outputs": [
    {
     "name": "stderr",
     "output_type": "stream",
     "text": [
      "c:\\users\\siddharth\\appdata\\local\\programs\\python\\python37-32\\lib\\site-packages\\sklearn\\neural_network\\multilayer_perceptron.py:566: ConvergenceWarning: Stochastic Optimizer: Maximum iterations (1000) reached and the optimization hasn't converged yet.\n",
      "  % self.max_iter, ConvergenceWarning)\n"
     ]
    },
    {
     "name": "stdout",
     "output_type": "stream",
     "text": [
      "Step :  1 / 60\n"
     ]
    },
    {
     "name": "stderr",
     "output_type": "stream",
     "text": [
      "c:\\users\\siddharth\\appdata\\local\\programs\\python\\python37-32\\lib\\site-packages\\sklearn\\neural_network\\multilayer_perceptron.py:566: ConvergenceWarning: Stochastic Optimizer: Maximum iterations (1000) reached and the optimization hasn't converged yet.\n",
      "  % self.max_iter, ConvergenceWarning)\n"
     ]
    },
    {
     "name": "stdout",
     "output_type": "stream",
     "text": [
      "Step :  2 / 60\n",
      "Step :  3 / 60\n"
     ]
    },
    {
     "name": "stderr",
     "output_type": "stream",
     "text": [
      "c:\\users\\siddharth\\appdata\\local\\programs\\python\\python37-32\\lib\\site-packages\\sklearn\\neural_network\\multilayer_perceptron.py:566: ConvergenceWarning: Stochastic Optimizer: Maximum iterations (1000) reached and the optimization hasn't converged yet.\n",
      "  % self.max_iter, ConvergenceWarning)\n"
     ]
    },
    {
     "name": "stdout",
     "output_type": "stream",
     "text": [
      "Step :  4 / 60\n"
     ]
    },
    {
     "name": "stderr",
     "output_type": "stream",
     "text": [
      "c:\\users\\siddharth\\appdata\\local\\programs\\python\\python37-32\\lib\\site-packages\\sklearn\\neural_network\\multilayer_perceptron.py:566: ConvergenceWarning: Stochastic Optimizer: Maximum iterations (1000) reached and the optimization hasn't converged yet.\n",
      "  % self.max_iter, ConvergenceWarning)\n"
     ]
    },
    {
     "name": "stdout",
     "output_type": "stream",
     "text": [
      "Step :  5 / 60\n"
     ]
    },
    {
     "name": "stderr",
     "output_type": "stream",
     "text": [
      "c:\\users\\siddharth\\appdata\\local\\programs\\python\\python37-32\\lib\\site-packages\\sklearn\\neural_network\\multilayer_perceptron.py:566: ConvergenceWarning: Stochastic Optimizer: Maximum iterations (1000) reached and the optimization hasn't converged yet.\n",
      "  % self.max_iter, ConvergenceWarning)\n"
     ]
    },
    {
     "name": "stdout",
     "output_type": "stream",
     "text": [
      "Step :  6 / 60\n"
     ]
    },
    {
     "name": "stderr",
     "output_type": "stream",
     "text": [
      "c:\\users\\siddharth\\appdata\\local\\programs\\python\\python37-32\\lib\\site-packages\\sklearn\\neural_network\\multilayer_perceptron.py:566: ConvergenceWarning: Stochastic Optimizer: Maximum iterations (1000) reached and the optimization hasn't converged yet.\n",
      "  % self.max_iter, ConvergenceWarning)\n"
     ]
    },
    {
     "name": "stdout",
     "output_type": "stream",
     "text": [
      "Step :  7 / 60\n"
     ]
    },
    {
     "name": "stderr",
     "output_type": "stream",
     "text": [
      "c:\\users\\siddharth\\appdata\\local\\programs\\python\\python37-32\\lib\\site-packages\\sklearn\\neural_network\\multilayer_perceptron.py:566: ConvergenceWarning: Stochastic Optimizer: Maximum iterations (1000) reached and the optimization hasn't converged yet.\n",
      "  % self.max_iter, ConvergenceWarning)\n"
     ]
    },
    {
     "name": "stdout",
     "output_type": "stream",
     "text": [
      "Step :  8 / 60\n"
     ]
    },
    {
     "name": "stderr",
     "output_type": "stream",
     "text": [
      "c:\\users\\siddharth\\appdata\\local\\programs\\python\\python37-32\\lib\\site-packages\\sklearn\\neural_network\\multilayer_perceptron.py:566: ConvergenceWarning: Stochastic Optimizer: Maximum iterations (1000) reached and the optimization hasn't converged yet.\n",
      "  % self.max_iter, ConvergenceWarning)\n"
     ]
    },
    {
     "name": "stdout",
     "output_type": "stream",
     "text": [
      "Step :  9 / 60\n"
     ]
    },
    {
     "name": "stderr",
     "output_type": "stream",
     "text": [
      "c:\\users\\siddharth\\appdata\\local\\programs\\python\\python37-32\\lib\\site-packages\\sklearn\\neural_network\\multilayer_perceptron.py:566: ConvergenceWarning: Stochastic Optimizer: Maximum iterations (1000) reached and the optimization hasn't converged yet.\n",
      "  % self.max_iter, ConvergenceWarning)\n"
     ]
    },
    {
     "name": "stdout",
     "output_type": "stream",
     "text": [
      "Step :  10 / 60\n",
      "Step :  11 / 60\n",
      "Step :  12 / 60\n"
     ]
    },
    {
     "name": "stderr",
     "output_type": "stream",
     "text": [
      "c:\\users\\siddharth\\appdata\\local\\programs\\python\\python37-32\\lib\\site-packages\\sklearn\\neural_network\\multilayer_perceptron.py:566: ConvergenceWarning: Stochastic Optimizer: Maximum iterations (1000) reached and the optimization hasn't converged yet.\n",
      "  % self.max_iter, ConvergenceWarning)\n"
     ]
    },
    {
     "name": "stdout",
     "output_type": "stream",
     "text": [
      "Step :  13 / 60\n"
     ]
    },
    {
     "name": "stderr",
     "output_type": "stream",
     "text": [
      "c:\\users\\siddharth\\appdata\\local\\programs\\python\\python37-32\\lib\\site-packages\\sklearn\\neural_network\\multilayer_perceptron.py:566: ConvergenceWarning: Stochastic Optimizer: Maximum iterations (1000) reached and the optimization hasn't converged yet.\n",
      "  % self.max_iter, ConvergenceWarning)\n"
     ]
    },
    {
     "name": "stdout",
     "output_type": "stream",
     "text": [
      "Step :  14 / 60\n"
     ]
    },
    {
     "name": "stderr",
     "output_type": "stream",
     "text": [
      "c:\\users\\siddharth\\appdata\\local\\programs\\python\\python37-32\\lib\\site-packages\\sklearn\\neural_network\\multilayer_perceptron.py:566: ConvergenceWarning: Stochastic Optimizer: Maximum iterations (1000) reached and the optimization hasn't converged yet.\n",
      "  % self.max_iter, ConvergenceWarning)\n"
     ]
    },
    {
     "name": "stdout",
     "output_type": "stream",
     "text": [
      "Step :  15 / 60\n",
      "Step :  16 / 60\n",
      "Step :  17 / 60\n"
     ]
    },
    {
     "name": "stderr",
     "output_type": "stream",
     "text": [
      "c:\\users\\siddharth\\appdata\\local\\programs\\python\\python37-32\\lib\\site-packages\\sklearn\\neural_network\\multilayer_perceptron.py:566: ConvergenceWarning: Stochastic Optimizer: Maximum iterations (1000) reached and the optimization hasn't converged yet.\n",
      "  % self.max_iter, ConvergenceWarning)\n"
     ]
    },
    {
     "name": "stdout",
     "output_type": "stream",
     "text": [
      "Step :  18 / 60\n"
     ]
    },
    {
     "name": "stderr",
     "output_type": "stream",
     "text": [
      "c:\\users\\siddharth\\appdata\\local\\programs\\python\\python37-32\\lib\\site-packages\\sklearn\\neural_network\\multilayer_perceptron.py:566: ConvergenceWarning: Stochastic Optimizer: Maximum iterations (1000) reached and the optimization hasn't converged yet.\n",
      "  % self.max_iter, ConvergenceWarning)\n"
     ]
    },
    {
     "name": "stdout",
     "output_type": "stream",
     "text": [
      "Step :  19 / 60\n"
     ]
    },
    {
     "name": "stderr",
     "output_type": "stream",
     "text": [
      "c:\\users\\siddharth\\appdata\\local\\programs\\python\\python37-32\\lib\\site-packages\\sklearn\\neural_network\\multilayer_perceptron.py:566: ConvergenceWarning: Stochastic Optimizer: Maximum iterations (1000) reached and the optimization hasn't converged yet.\n",
      "  % self.max_iter, ConvergenceWarning)\n"
     ]
    },
    {
     "name": "stdout",
     "output_type": "stream",
     "text": [
      "Step :  20 / 60\n",
      "Step :  21 / 60\n",
      "Step :  22 / 60\n",
      "Step :  23 / 60\n",
      "Step :  24 / 60\n",
      "Step :  25 / 60\n",
      "Step :  26 / 60\n",
      "Step :  27 / 60\n",
      "Step :  28 / 60\n",
      "Step :  29 / 60\n",
      "Step :  30 / 60\n",
      "Step :  31 / 60\n",
      "Step :  32 / 60\n",
      "Step :  33 / 60\n",
      "Step :  34 / 60\n",
      "Step :  35 / 60\n",
      "Step :  36 / 60\n",
      "Step :  37 / 60\n",
      "Step :  38 / 60\n",
      "Step :  39 / 60\n",
      "Step :  40 / 60\n",
      "Step :  41 / 60\n",
      "Step :  42 / 60\n",
      "Step :  43 / 60\n",
      "Step :  44 / 60\n",
      "Step :  45 / 60\n",
      "Step :  46 / 60\n",
      "Step :  47 / 60\n",
      "Step :  48 / 60\n",
      "Step :  49 / 60\n",
      "Step :  50 / 60\n",
      "Step :  51 / 60\n",
      "Step :  52 / 60\n",
      "Step :  53 / 60\n",
      "Step :  54 / 60\n",
      "Step :  55 / 60\n",
      "Step :  56 / 60\n",
      "Step :  57 / 60\n",
      "Step :  58 / 60\n",
      "Step :  59 / 60\n",
      "Step :  60 / 60\n"
     ]
    }
   ],
   "source": [
    "#Parametrs to change for experiment\n",
    "max_iterations_list = [1000,2000,3000]\n",
    "number_of_iterations = len(max_iterations_list)\n",
    "\n",
    "activationFunctions = ['identity', 'logistic', 'tanh', 'relu']\n",
    "numberOfActivationFunction = len(activationFunctions)\n",
    "\n",
    "hidden_layer_values = [1,2,3,4,5]\n",
    "numberOfHiddenLayers = len(hidden_layer_values)\n",
    "\n",
    "#FinalValueToStore\n",
    "finalActivationList = []\n",
    "finalHiddenLayerList = []\n",
    "finalAccuracyList = []\n",
    "\n",
    "count = 0\n",
    "\n",
    "for h in range(0,number_of_iterations):\n",
    "    for i in range(0,numberOfActivationFunction):\n",
    "        for j in range(0,numberOfHiddenLayers):\n",
    "            clf = MLPClassifier(activation = activationFunctions[i],\n",
    "                            hidden_layer_sizes=(hidden_layer_values[j],),\n",
    "                                                    random_state=1,max_iter = max_iterations_list[h])\n",
    "            clf.fit(X_Train, Y_Train) \n",
    "            predicted_classes = clf.predict(X_Train)\n",
    "            accuracyValue = accuracy_score(Y_Train,predicted_classes)\n",
    "        \n",
    "            finalActivationList.append(activationFunctions[i])\n",
    "            finalHiddenLayerList.append(hidden_layer_values[j])\n",
    "        \n",
    "            finalAccuracyList.append(accuracyValue)\n",
    "            count = count + 1\n",
    "            print(\"Step : \",count, \"/\",(numberOfActivationFunction * numberOfHiddenLayers * number_of_iterations))"
   ]
  },
  {
   "cell_type": "markdown",
   "metadata": {},
   "source": [
    "# Part 1(ii) : Training set - Activation Functions, Number of nodes, Hidden layers - 1 hidden layers and respective units in the hidden layer - Plot"
   ]
  },
  {
   "cell_type": "code",
   "execution_count": 66,
   "metadata": {},
   "outputs": [
    {
     "data": {
      "image/png": "[encoded data removed]",
      "text/plain": [
       "<Figure size 1440x360 with 3 Axes>"
      ]
     },
     "metadata": {
      "needs_background": "light"
     },
     "output_type": "display_data"
    }
   ],
   "source": [
    "hidden_layer_values = [1,2,3,4,5]\n",
    "plt.figure(figsize=(20,5))\n",
    "subplot(1,3,1)\n",
    "\n",
    "plt.plot(hidden_layer_values, finalAccuracyList[0:5], color='red', label='Identity')\n",
    "plt.plot(hidden_layer_values, finalAccuracyList[5:10], color='green', label='Logistic')\n",
    "plt.plot(hidden_layer_values, finalAccuracyList[10:15], color='blue', label='Tanh')\n",
    "plt.plot(hidden_layer_values, finalAccuracyList[15:20], color='orange', label='Relu')\n",
    "plt.xlabel('Hidden layer units')\n",
    "plt.ylabel('Accuracy')\n",
    "plt.legend()\n",
    "plt.title('Max Iterations:1000', y=-0.25)\n",
    "\n",
    "subplot(1,3,2)\n",
    "plt.plot(hidden_layer_values, finalAccuracyList[20:25], color='red', label='Identity')\n",
    "plt.plot(hidden_layer_values, finalAccuracyList[25:30], color='green', label='Logistic')\n",
    "plt.plot(hidden_layer_values, finalAccuracyList[30:35], color='blue', label='Tanh')\n",
    "plt.plot(hidden_layer_values, finalAccuracyList[35:40], color='orange', label='Relu')\n",
    "plt.xlabel('Hidden layer units')\n",
    "plt.ylabel('Accuracy')\n",
    "plt.legend()\n",
    "plt.title('Max Iterations:2000', y=-0.25)\n",
    "\n",
    "subplot(1,3,3)\n",
    "plt.plot(hidden_layer_values, finalAccuracyList[40:45], color='red', label='Identity')\n",
    "plt.plot(hidden_layer_values, finalAccuracyList[45:50], color='green', label='Logistic')\n",
    "plt.plot(hidden_layer_values, finalAccuracyList[50:55], color='blue', label='Tanh')\n",
    "plt.plot(hidden_layer_values, finalAccuracyList[55:60], color='orange', label='Relu')\n",
    "plt.xlabel('Hidden layer units')\n",
    "plt.ylabel('Accuracy')\n",
    "plt.legend()\n",
    "plt.title('Max Iterations:3000', y=-0.25)\n",
    "\n",
    "\n",
    "plt.show()"
   ]
  },
  {
   "cell_type": "markdown",
   "metadata": {},
   "source": [
    "# Part 1(iii) : Validation set - Activation Functions, Number of nodes, Hidden layers - 1 hidden layers and respective units in the hidden layer"
   ]
  },
  {
   "cell_type": "code",
   "execution_count": 67,
   "metadata": {},
   "outputs": [
    {
     "name": "stderr",
     "output_type": "stream",
     "text": [
      "c:\\users\\siddharth\\appdata\\local\\programs\\python\\python37-32\\lib\\site-packages\\sklearn\\neural_network\\multilayer_perceptron.py:566: ConvergenceWarning: Stochastic Optimizer: Maximum iterations (1000) reached and the optimization hasn't converged yet.\n",
      "  % self.max_iter, ConvergenceWarning)\n"
     ]
    },
    {
     "name": "stdout",
     "output_type": "stream",
     "text": [
      "Step :  1 / 60\n"
     ]
    },
    {
     "name": "stderr",
     "output_type": "stream",
     "text": [
      "c:\\users\\siddharth\\appdata\\local\\programs\\python\\python37-32\\lib\\site-packages\\sklearn\\neural_network\\multilayer_perceptron.py:566: ConvergenceWarning: Stochastic Optimizer: Maximum iterations (1000) reached and the optimization hasn't converged yet.\n",
      "  % self.max_iter, ConvergenceWarning)\n"
     ]
    },
    {
     "name": "stdout",
     "output_type": "stream",
     "text": [
      "Step :  2 / 60\n",
      "Step :  3 / 60\n"
     ]
    },
    {
     "name": "stderr",
     "output_type": "stream",
     "text": [
      "c:\\users\\siddharth\\appdata\\local\\programs\\python\\python37-32\\lib\\site-packages\\sklearn\\neural_network\\multilayer_perceptron.py:566: ConvergenceWarning: Stochastic Optimizer: Maximum iterations (1000) reached and the optimization hasn't converged yet.\n",
      "  % self.max_iter, ConvergenceWarning)\n"
     ]
    },
    {
     "name": "stdout",
     "output_type": "stream",
     "text": [
      "Step :  4 / 60\n"
     ]
    },
    {
     "name": "stderr",
     "output_type": "stream",
     "text": [
      "c:\\users\\siddharth\\appdata\\local\\programs\\python\\python37-32\\lib\\site-packages\\sklearn\\neural_network\\multilayer_perceptron.py:566: ConvergenceWarning: Stochastic Optimizer: Maximum iterations (1000) reached and the optimization hasn't converged yet.\n",
      "  % self.max_iter, ConvergenceWarning)\n"
     ]
    },
    {
     "name": "stdout",
     "output_type": "stream",
     "text": [
      "Step :  5 / 60\n"
     ]
    },
    {
     "name": "stderr",
     "output_type": "stream",
     "text": [
      "c:\\users\\siddharth\\appdata\\local\\programs\\python\\python37-32\\lib\\site-packages\\sklearn\\neural_network\\multilayer_perceptron.py:566: ConvergenceWarning: Stochastic Optimizer: Maximum iterations (1000) reached and the optimization hasn't converged yet.\n",
      "  % self.max_iter, ConvergenceWarning)\n"
     ]
    },
    {
     "name": "stdout",
     "output_type": "stream",
     "text": [
      "Step :  6 / 60\n"
     ]
    },
    {
     "name": "stderr",
     "output_type": "stream",
     "text": [
      "c:\\users\\siddharth\\appdata\\local\\programs\\python\\python37-32\\lib\\site-packages\\sklearn\\neural_network\\multilayer_perceptron.py:566: ConvergenceWarning: Stochastic Optimizer: Maximum iterations (1000) reached and the optimization hasn't converged yet.\n",
      "  % self.max_iter, ConvergenceWarning)\n"
     ]
    },
    {
     "name": "stdout",
     "output_type": "stream",
     "text": [
      "Step :  7 / 60\n"
     ]
    },
    {
     "name": "stderr",
     "output_type": "stream",
     "text": [
      "c:\\users\\siddharth\\appdata\\local\\programs\\python\\python37-32\\lib\\site-packages\\sklearn\\neural_network\\multilayer_perceptron.py:566: ConvergenceWarning: Stochastic Optimizer: Maximum iterations (1000) reached and the optimization hasn't converged yet.\n",
      "  % self.max_iter, ConvergenceWarning)\n"
     ]
    },
    {
     "name": "stdout",
     "output_type": "stream",
     "text": [
      "Step :  8 / 60\n"
     ]
    },
    {
     "name": "stderr",
     "output_type": "stream",
     "text": [
      "c:\\users\\siddharth\\appdata\\local\\programs\\python\\python37-32\\lib\\site-packages\\sklearn\\neural_network\\multilayer_perceptron.py:566: ConvergenceWarning: Stochastic Optimizer: Maximum iterations (1000) reached and the optimization hasn't converged yet.\n",
      "  % self.max_iter, ConvergenceWarning)\n"
     ]
    },
    {
     "name": "stdout",
     "output_type": "stream",
     "text": [
      "Step :  9 / 60\n"
     ]
    },
    {
     "name": "stderr",
     "output_type": "stream",
     "text": [
      "c:\\users\\siddharth\\appdata\\local\\programs\\python\\python37-32\\lib\\site-packages\\sklearn\\neural_network\\multilayer_perceptron.py:566: ConvergenceWarning: Stochastic Optimizer: Maximum iterations (1000) reached and the optimization hasn't converged yet.\n",
      "  % self.max_iter, ConvergenceWarning)\n"
     ]
    },
    {
     "name": "stdout",
     "output_type": "stream",
     "text": [
      "Step :  10 / 60\n",
      "Step :  11 / 60\n",
      "Step :  12 / 60\n"
     ]
    },
    {
     "name": "stderr",
     "output_type": "stream",
     "text": [
      "c:\\users\\siddharth\\appdata\\local\\programs\\python\\python37-32\\lib\\site-packages\\sklearn\\neural_network\\multilayer_perceptron.py:566: ConvergenceWarning: Stochastic Optimizer: Maximum iterations (1000) reached and the optimization hasn't converged yet.\n",
      "  % self.max_iter, ConvergenceWarning)\n"
     ]
    },
    {
     "name": "stdout",
     "output_type": "stream",
     "text": [
      "Step :  13 / 60\n"
     ]
    },
    {
     "name": "stderr",
     "output_type": "stream",
     "text": [
      "c:\\users\\siddharth\\appdata\\local\\programs\\python\\python37-32\\lib\\site-packages\\sklearn\\neural_network\\multilayer_perceptron.py:566: ConvergenceWarning: Stochastic Optimizer: Maximum iterations (1000) reached and the optimization hasn't converged yet.\n",
      "  % self.max_iter, ConvergenceWarning)\n"
     ]
    },
    {
     "name": "stdout",
     "output_type": "stream",
     "text": [
      "Step :  14 / 60\n"
     ]
    },
    {
     "name": "stderr",
     "output_type": "stream",
     "text": [
      "c:\\users\\siddharth\\appdata\\local\\programs\\python\\python37-32\\lib\\site-packages\\sklearn\\neural_network\\multilayer_perceptron.py:566: ConvergenceWarning: Stochastic Optimizer: Maximum iterations (1000) reached and the optimization hasn't converged yet.\n",
      "  % self.max_iter, ConvergenceWarning)\n"
     ]
    },
    {
     "name": "stdout",
     "output_type": "stream",
     "text": [
      "Step :  15 / 60\n",
      "Step :  16 / 60\n",
      "Step :  17 / 60\n"
     ]
    },
    {
     "name": "stderr",
     "output_type": "stream",
     "text": [
      "c:\\users\\siddharth\\appdata\\local\\programs\\python\\python37-32\\lib\\site-packages\\sklearn\\neural_network\\multilayer_perceptron.py:566: ConvergenceWarning: Stochastic Optimizer: Maximum iterations (1000) reached and the optimization hasn't converged yet.\n",
      "  % self.max_iter, ConvergenceWarning)\n"
     ]
    },
    {
     "name": "stdout",
     "output_type": "stream",
     "text": [
      "Step :  18 / 60\n"
     ]
    },
    {
     "name": "stderr",
     "output_type": "stream",
     "text": [
      "c:\\users\\siddharth\\appdata\\local\\programs\\python\\python37-32\\lib\\site-packages\\sklearn\\neural_network\\multilayer_perceptron.py:566: ConvergenceWarning: Stochastic Optimizer: Maximum iterations (1000) reached and the optimization hasn't converged yet.\n",
      "  % self.max_iter, ConvergenceWarning)\n"
     ]
    },
    {
     "name": "stdout",
     "output_type": "stream",
     "text": [
      "Step :  19 / 60\n"
     ]
    },
    {
     "name": "stderr",
     "output_type": "stream",
     "text": [
      "c:\\users\\siddharth\\appdata\\local\\programs\\python\\python37-32\\lib\\site-packages\\sklearn\\neural_network\\multilayer_perceptron.py:566: ConvergenceWarning: Stochastic Optimizer: Maximum iterations (1000) reached and the optimization hasn't converged yet.\n",
      "  % self.max_iter, ConvergenceWarning)\n"
     ]
    },
    {
     "name": "stdout",
     "output_type": "stream",
     "text": [
      "Step :  20 / 60\n",
      "Step :  21 / 60\n",
      "Step :  22 / 60\n",
      "Step :  23 / 60\n",
      "Step :  24 / 60\n",
      "Step :  25 / 60\n",
      "Step :  26 / 60\n",
      "Step :  27 / 60\n",
      "Step :  28 / 60\n",
      "Step :  29 / 60\n",
      "Step :  30 / 60\n",
      "Step :  31 / 60\n",
      "Step :  32 / 60\n",
      "Step :  33 / 60\n",
      "Step :  34 / 60\n",
      "Step :  35 / 60\n",
      "Step :  36 / 60\n",
      "Step :  37 / 60\n",
      "Step :  38 / 60\n",
      "Step :  39 / 60\n",
      "Step :  40 / 60\n",
      "Step :  41 / 60\n",
      "Step :  42 / 60\n",
      "Step :  43 / 60\n",
      "Step :  44 / 60\n",
      "Step :  45 / 60\n",
      "Step :  46 / 60\n",
      "Step :  47 / 60\n",
      "Step :  48 / 60\n",
      "Step :  49 / 60\n",
      "Step :  50 / 60\n",
      "Step :  51 / 60\n",
      "Step :  52 / 60\n",
      "Step :  53 / 60\n",
      "Step :  54 / 60\n",
      "Step :  55 / 60\n",
      "Step :  56 / 60\n",
      "Step :  57 / 60\n",
      "Step :  58 / 60\n",
      "Step :  59 / 60\n",
      "Step :  60 / 60\n"
     ]
    }
   ],
   "source": [
    "#Parametrs to change for experiment\n",
    "max_iterations_list = [1000,2000,3000]\n",
    "number_of_iterations = len(max_iterations_list)\n",
    "\n",
    "activationFunctions = ['identity', 'logistic', 'tanh', 'relu']\n",
    "numberOfActivationFunction = len(activationFunctions)\n",
    "\n",
    "hidden_layer_values = [1,2,3,4,5]\n",
    "numberOfHiddenLayers = len(hidden_layer_values)\n",
    "\n",
    "#FinalValueToStore\n",
    "finalActivationList = []\n",
    "finalHiddenLayerList = []\n",
    "finalAccuracyList = []\n",
    "\n",
    "count = 0\n",
    "\n",
    "for h in range(0,number_of_iterations):\n",
    "    for i in range(0,numberOfActivationFunction):\n",
    "        for j in range(0,numberOfHiddenLayers):\n",
    "            clf = MLPClassifier(activation = activationFunctions[i],\n",
    "                            hidden_layer_sizes=(hidden_layer_values[j],),\n",
    "                                                    random_state=1,max_iter = max_iterations_list[h])\n",
    "            clf.fit(X_Train, Y_Train) \n",
    "            predicted_classes = clf.predict(X_Test)\n",
    "            accuracyValue = accuracy_score(Y_Test,predicted_classes)\n",
    "        \n",
    "            finalActivationList.append(activationFunctions[i])\n",
    "            finalHiddenLayerList.append(hidden_layer_values[j])\n",
    "        \n",
    "            finalAccuracyList.append(accuracyValue)\n",
    "            count = count + 1\n",
    "            print(\"Step : \",count, \"/\",(numberOfActivationFunction * numberOfHiddenLayers * number_of_iterations))"
   ]
  },
  {
   "cell_type": "markdown",
   "metadata": {},
   "source": [
    "# Part 1(iv) : Validation set - Activation Functions, Number of nodes, Hidden layers - 1 hidden layers and respective units in the hidden layer - Plot"
   ]
  },
  {
   "cell_type": "code",
   "execution_count": 68,
   "metadata": {},
   "outputs": [
    {
     "data": {
      "image/png": "[encoded data removed]",
      "text/plain": [
       "<Figure size 1440x360 with 3 Axes>"
      ]
     },
     "metadata": {
      "needs_background": "light"
     },
     "output_type": "display_data"
    }
   ],
   "source": [
    "hidden_layer_values = [1,2,3,4,5]\n",
    "plt.figure(figsize=(20,5))\n",
    "subplot(1,3,1)\n",
    "\n",
    "plt.plot(hidden_layer_values, finalAccuracyList[0:5], color='red', label='Identity')\n",
    "plt.plot(hidden_layer_values, finalAccuracyList[5:10], color='green', label='Logistic')\n",
    "plt.plot(hidden_layer_values, finalAccuracyList[10:15], color='blue', label='Tanh')\n",
    "plt.plot(hidden_layer_values, finalAccuracyList[15:20], color='orange', label='Relu')\n",
    "plt.xlabel('Hidden layer units')\n",
    "plt.ylabel('Accuracy')\n",
    "plt.legend()\n",
    "plt.title('Max Iterations:1000', y=-0.25)\n",
    "\n",
    "subplot(1,3,2)\n",
    "plt.plot(hidden_layer_values, finalAccuracyList[20:25], color='red', label='Identity')\n",
    "plt.plot(hidden_layer_values, finalAccuracyList[25:30], color='green', label='Logistic')\n",
    "plt.plot(hidden_layer_values, finalAccuracyList[30:35], color='blue', label='Tanh')\n",
    "plt.plot(hidden_layer_values, finalAccuracyList[35:40], color='orange', label='Relu')\n",
    "plt.xlabel('Hidden layer units')\n",
    "plt.ylabel('Accuracy')\n",
    "plt.legend()\n",
    "plt.title('Max Iterations:2000', y=-0.25)\n",
    "\n",
    "subplot(1,3,3)\n",
    "plt.plot(hidden_layer_values, finalAccuracyList[40:45], color='red', label='Identity')\n",
    "plt.plot(hidden_layer_values, finalAccuracyList[45:50], color='green', label='Logistic')\n",
    "plt.plot(hidden_layer_values, finalAccuracyList[50:55], color='blue', label='Tanh')\n",
    "plt.plot(hidden_layer_values, finalAccuracyList[55:60], color='orange', label='Relu')\n",
    "plt.xlabel('Hidden layer units')\n",
    "plt.ylabel('Accuracy')\n",
    "plt.legend()\n",
    "plt.title('Max Iterations:3000', y=-0.25)\n",
    "\n",
    "\n",
    "plt.show()"
   ]
  },
  {
   "cell_type": "markdown",
   "metadata": {},
   "source": [
    "# Part 2(i) : Training set - Activation Functions, Number of nodes, Hidden layers - 2 hidden layers and respective units in the hidden layer"
   ]
  },
  {
   "cell_type": "code",
   "execution_count": 69,
   "metadata": {
    "scrolled": true
   },
   "outputs": [
    {
     "name": "stderr",
     "output_type": "stream",
     "text": [
      "c:\\users\\siddharth\\appdata\\local\\programs\\python\\python37-32\\lib\\site-packages\\sklearn\\neural_network\\multilayer_perceptron.py:566: ConvergenceWarning: Stochastic Optimizer: Maximum iterations (1000) reached and the optimization hasn't converged yet.\n",
      "  % self.max_iter, ConvergenceWarning)\n"
     ]
    },
    {
     "name": "stdout",
     "output_type": "stream",
     "text": [
      "Step :  1 / 60\n",
      "Step :  2 / 60\n"
     ]
    },
    {
     "name": "stderr",
     "output_type": "stream",
     "text": [
      "c:\\users\\siddharth\\appdata\\local\\programs\\python\\python37-32\\lib\\site-packages\\sklearn\\neural_network\\multilayer_perceptron.py:566: ConvergenceWarning: Stochastic Optimizer: Maximum iterations (1000) reached and the optimization hasn't converged yet.\n",
      "  % self.max_iter, ConvergenceWarning)\n"
     ]
    },
    {
     "name": "stdout",
     "output_type": "stream",
     "text": [
      "Step :  3 / 60\n"
     ]
    },
    {
     "name": "stderr",
     "output_type": "stream",
     "text": [
      "c:\\users\\siddharth\\appdata\\local\\programs\\python\\python37-32\\lib\\site-packages\\sklearn\\neural_network\\multilayer_perceptron.py:566: ConvergenceWarning: Stochastic Optimizer: Maximum iterations (1000) reached and the optimization hasn't converged yet.\n",
      "  % self.max_iter, ConvergenceWarning)\n"
     ]
    },
    {
     "name": "stdout",
     "output_type": "stream",
     "text": [
      "Step :  4 / 60\n",
      "Step :  5 / 60\n"
     ]
    },
    {
     "name": "stderr",
     "output_type": "stream",
     "text": [
      "c:\\users\\siddharth\\appdata\\local\\programs\\python\\python37-32\\lib\\site-packages\\sklearn\\neural_network\\multilayer_perceptron.py:566: ConvergenceWarning: Stochastic Optimizer: Maximum iterations (1000) reached and the optimization hasn't converged yet.\n",
      "  % self.max_iter, ConvergenceWarning)\n"
     ]
    },
    {
     "name": "stdout",
     "output_type": "stream",
     "text": [
      "Step :  6 / 60\n",
      "Step :  7 / 60\n",
      "Step :  8 / 60\n",
      "Step :  9 / 60\n",
      "Step :  10 / 60\n"
     ]
    },
    {
     "name": "stderr",
     "output_type": "stream",
     "text": [
      "c:\\users\\siddharth\\appdata\\local\\programs\\python\\python37-32\\lib\\site-packages\\sklearn\\neural_network\\multilayer_perceptron.py:566: ConvergenceWarning: Stochastic Optimizer: Maximum iterations (1000) reached and the optimization hasn't converged yet.\n",
      "  % self.max_iter, ConvergenceWarning)\n"
     ]
    },
    {
     "name": "stdout",
     "output_type": "stream",
     "text": [
      "Step :  11 / 60\n"
     ]
    },
    {
     "name": "stderr",
     "output_type": "stream",
     "text": [
      "c:\\users\\siddharth\\appdata\\local\\programs\\python\\python37-32\\lib\\site-packages\\sklearn\\neural_network\\multilayer_perceptron.py:566: ConvergenceWarning: Stochastic Optimizer: Maximum iterations (1000) reached and the optimization hasn't converged yet.\n",
      "  % self.max_iter, ConvergenceWarning)\n"
     ]
    },
    {
     "name": "stdout",
     "output_type": "stream",
     "text": [
      "Step :  12 / 60\n"
     ]
    },
    {
     "name": "stderr",
     "output_type": "stream",
     "text": [
      "c:\\users\\siddharth\\appdata\\local\\programs\\python\\python37-32\\lib\\site-packages\\sklearn\\neural_network\\multilayer_perceptron.py:566: ConvergenceWarning: Stochastic Optimizer: Maximum iterations (1000) reached and the optimization hasn't converged yet.\n",
      "  % self.max_iter, ConvergenceWarning)\n"
     ]
    },
    {
     "name": "stdout",
     "output_type": "stream",
     "text": [
      "Step :  13 / 60\n"
     ]
    },
    {
     "name": "stderr",
     "output_type": "stream",
     "text": [
      "c:\\users\\siddharth\\appdata\\local\\programs\\python\\python37-32\\lib\\site-packages\\sklearn\\neural_network\\multilayer_perceptron.py:566: ConvergenceWarning: Stochastic Optimizer: Maximum iterations (1000) reached and the optimization hasn't converged yet.\n",
      "  % self.max_iter, ConvergenceWarning)\n"
     ]
    },
    {
     "name": "stdout",
     "output_type": "stream",
     "text": [
      "Step :  14 / 60\n"
     ]
    },
    {
     "name": "stderr",
     "output_type": "stream",
     "text": [
      "c:\\users\\siddharth\\appdata\\local\\programs\\python\\python37-32\\lib\\site-packages\\sklearn\\neural_network\\multilayer_perceptron.py:566: ConvergenceWarning: Stochastic Optimizer: Maximum iterations (1000) reached and the optimization hasn't converged yet.\n",
      "  % self.max_iter, ConvergenceWarning)\n"
     ]
    },
    {
     "name": "stdout",
     "output_type": "stream",
     "text": [
      "Step :  15 / 60\n",
      "Step :  16 / 60\n"
     ]
    },
    {
     "name": "stderr",
     "output_type": "stream",
     "text": [
      "c:\\users\\siddharth\\appdata\\local\\programs\\python\\python37-32\\lib\\site-packages\\sklearn\\neural_network\\multilayer_perceptron.py:566: ConvergenceWarning: Stochastic Optimizer: Maximum iterations (1000) reached and the optimization hasn't converged yet.\n",
      "  % self.max_iter, ConvergenceWarning)\n"
     ]
    },
    {
     "name": "stdout",
     "output_type": "stream",
     "text": [
      "Step :  17 / 60\n",
      "Step :  18 / 60\n"
     ]
    },
    {
     "name": "stderr",
     "output_type": "stream",
     "text": [
      "c:\\users\\siddharth\\appdata\\local\\programs\\python\\python37-32\\lib\\site-packages\\sklearn\\neural_network\\multilayer_perceptron.py:566: ConvergenceWarning: Stochastic Optimizer: Maximum iterations (1000) reached and the optimization hasn't converged yet.\n",
      "  % self.max_iter, ConvergenceWarning)\n"
     ]
    },
    {
     "name": "stdout",
     "output_type": "stream",
     "text": [
      "Step :  19 / 60\n"
     ]
    },
    {
     "name": "stderr",
     "output_type": "stream",
     "text": [
      "c:\\users\\siddharth\\appdata\\local\\programs\\python\\python37-32\\lib\\site-packages\\sklearn\\neural_network\\multilayer_perceptron.py:566: ConvergenceWarning: Stochastic Optimizer: Maximum iterations (1000) reached and the optimization hasn't converged yet.\n",
      "  % self.max_iter, ConvergenceWarning)\n"
     ]
    },
    {
     "name": "stdout",
     "output_type": "stream",
     "text": [
      "Step :  20 / 60\n",
      "Step :  21 / 60\n",
      "Step :  22 / 60\n",
      "Step :  23 / 60\n",
      "Step :  24 / 60\n",
      "Step :  25 / 60\n"
     ]
    },
    {
     "name": "stderr",
     "output_type": "stream",
     "text": [
      "c:\\users\\siddharth\\appdata\\local\\programs\\python\\python37-32\\lib\\site-packages\\sklearn\\neural_network\\multilayer_perceptron.py:566: ConvergenceWarning: Stochastic Optimizer: Maximum iterations (2000) reached and the optimization hasn't converged yet.\n",
      "  % self.max_iter, ConvergenceWarning)\n"
     ]
    },
    {
     "name": "stdout",
     "output_type": "stream",
     "text": [
      "Step :  26 / 60\n",
      "Step :  27 / 60\n",
      "Step :  28 / 60\n",
      "Step :  29 / 60\n",
      "Step :  30 / 60\n",
      "Step :  31 / 60\n"
     ]
    },
    {
     "name": "stderr",
     "output_type": "stream",
     "text": [
      "c:\\users\\siddharth\\appdata\\local\\programs\\python\\python37-32\\lib\\site-packages\\sklearn\\neural_network\\multilayer_perceptron.py:566: ConvergenceWarning: Stochastic Optimizer: Maximum iterations (2000) reached and the optimization hasn't converged yet.\n",
      "  % self.max_iter, ConvergenceWarning)\n"
     ]
    },
    {
     "name": "stdout",
     "output_type": "stream",
     "text": [
      "Step :  32 / 60\n",
      "Step :  33 / 60\n",
      "Step :  34 / 60\n",
      "Step :  35 / 60\n",
      "Step :  36 / 60\n",
      "Step :  37 / 60\n",
      "Step :  38 / 60\n",
      "Step :  39 / 60\n",
      "Step :  40 / 60\n",
      "Step :  41 / 60\n",
      "Step :  42 / 60\n",
      "Step :  43 / 60\n",
      "Step :  44 / 60\n",
      "Step :  45 / 60\n",
      "Step :  46 / 60\n",
      "Step :  47 / 60\n",
      "Step :  48 / 60\n",
      "Step :  49 / 60\n",
      "Step :  50 / 60\n",
      "Step :  51 / 60\n",
      "Step :  52 / 60\n",
      "Step :  53 / 60\n",
      "Step :  54 / 60\n",
      "Step :  55 / 60\n",
      "Step :  56 / 60\n",
      "Step :  57 / 60\n",
      "Step :  58 / 60\n",
      "Step :  59 / 60\n",
      "Step :  60 / 60\n"
     ]
    }
   ],
   "source": [
    "#Parametrs to change for experiment\n",
    "max_iterations_list = [1000,2000,3000]\n",
    "number_of_iterations = len(max_iterations_list)\n",
    "\n",
    "activationFunctions = ['identity', 'logistic', 'tanh', 'relu']\n",
    "numberOfActivationFunction = len(activationFunctions)\n",
    "\n",
    "hidden_layer_values = [3,4,5,6,7]\n",
    "numberOfHiddenLayers = len(hidden_layer_values)\n",
    "\n",
    "#FinalValueToStore\n",
    "finalActivationList = []\n",
    "finalHiddenLayerList = []\n",
    "finalAccuracyList = []\n",
    "\n",
    "count = 0\n",
    "\n",
    "for h in range(0,number_of_iterations):\n",
    "    for i in range(0,numberOfActivationFunction):\n",
    "        for j in range(0,numberOfHiddenLayers):\n",
    "            clf = MLPClassifier(activation = activationFunctions[i],\n",
    "                            hidden_layer_sizes=(hidden_layer_values[j],3),\n",
    "                                                    random_state=1,max_iter = max_iterations_list[h])\n",
    "            clf.fit(X_Train, Y_Train) \n",
    "            predicted_classes = clf.predict(X_Train)\n",
    "            accuracyValue = accuracy_score(Y_Train,predicted_classes)\n",
    "        \n",
    "            finalActivationList.append(activationFunctions[i])\n",
    "            finalHiddenLayerList.append(hidden_layer_values[j])\n",
    "        \n",
    "            finalAccuracyList.append(accuracyValue)\n",
    "            count = count + 1\n",
    "            print(\"Step : \",count, \"/\",(numberOfActivationFunction * numberOfHiddenLayers * number_of_iterations))"
   ]
  },
  {
   "cell_type": "markdown",
   "metadata": {},
   "source": [
    "# Part 2(ii) : Training set - Activation Functions, Number of nodes, Hidden layers - 2 hidden layers and respective units in the hidden layer - Plot"
   ]
  },
  {
   "cell_type": "code",
   "execution_count": 70,
   "metadata": {},
   "outputs": [
    {
     "data": {
      "image/png": "[encoded data removed]",
      "text/plain": [
       "<Figure size 1440x360 with 3 Axes>"
      ]
     },
     "metadata": {
      "needs_background": "light"
     },
     "output_type": "display_data"
    }
   ],
   "source": [
    "hidden_layer_values = [3,4,5,6,7]\n",
    "plt.figure(figsize=(20,5))\n",
    "subplot(1,3,1)\n",
    "\n",
    "plt.plot(hidden_layer_values, finalAccuracyList[0:5], color='red', label='Identity')\n",
    "plt.plot(hidden_layer_values, finalAccuracyList[5:10], color='green', label='Logistic')\n",
    "plt.plot(hidden_layer_values, finalAccuracyList[10:15], color='blue', label='Tanh')\n",
    "plt.plot(hidden_layer_values, finalAccuracyList[15:20], color='orange', label='Relu')\n",
    "plt.xlabel('Hidden layer units')\n",
    "plt.ylabel('Accuracy')\n",
    "plt.legend()\n",
    "plt.title('Max Iterations:1000', y=-0.25)\n",
    "\n",
    "subplot(1,3,2)\n",
    "plt.plot(hidden_layer_values, finalAccuracyList[20:25], color='red', label='Identity')\n",
    "plt.plot(hidden_layer_values, finalAccuracyList[25:30], color='green', label='Logistic')\n",
    "plt.plot(hidden_layer_values, finalAccuracyList[30:35], color='blue', label='Tanh')\n",
    "plt.plot(hidden_layer_values, finalAccuracyList[35:40], color='orange', label='Relu')\n",
    "plt.xlabel('Hidden layer units')\n",
    "plt.ylabel('Accuracy')\n",
    "plt.legend()\n",
    "plt.title('Max Iterations:2000', y=-0.25)\n",
    "\n",
    "subplot(1,3,3)\n",
    "plt.plot(hidden_layer_values, finalAccuracyList[40:45], color='red', label='Identity')\n",
    "plt.plot(hidden_layer_values, finalAccuracyList[45:50], color='green', label='Logistic')\n",
    "plt.plot(hidden_layer_values, finalAccuracyList[50:55], color='blue', label='Tanh')\n",
    "plt.plot(hidden_layer_values, finalAccuracyList[55:60], color='orange', label='Relu')\n",
    "plt.xlabel('Hidden layer units')\n",
    "plt.ylabel('Accuracy')\n",
    "plt.legend()\n",
    "plt.title('Max Iterations:3000', y=-0.25)\n",
    "\n",
    "\n",
    "plt.show()"
   ]
  },
  {
   "cell_type": "markdown",
   "metadata": {},
   "source": [
    "# Part 2(iii) : Validation set - Activation Functions, Number of nodes, Hidden layers - 2 hidden layers and respective units in the hidden layer"
   ]
  },
  {
   "cell_type": "code",
   "execution_count": 71,
   "metadata": {
    "scrolled": true
   },
   "outputs": [
    {
     "name": "stderr",
     "output_type": "stream",
     "text": [
      "c:\\users\\siddharth\\appdata\\local\\programs\\python\\python37-32\\lib\\site-packages\\sklearn\\neural_network\\multilayer_perceptron.py:566: ConvergenceWarning: Stochastic Optimizer: Maximum iterations (1000) reached and the optimization hasn't converged yet.\n",
      "  % self.max_iter, ConvergenceWarning)\n"
     ]
    },
    {
     "name": "stdout",
     "output_type": "stream",
     "text": [
      "Step :  1 / 60\n",
      "Step :  2 / 60\n"
     ]
    },
    {
     "name": "stderr",
     "output_type": "stream",
     "text": [
      "c:\\users\\siddharth\\appdata\\local\\programs\\python\\python37-32\\lib\\site-packages\\sklearn\\neural_network\\multilayer_perceptron.py:566: ConvergenceWarning: Stochastic Optimizer: Maximum iterations (1000) reached and the optimization hasn't converged yet.\n",
      "  % self.max_iter, ConvergenceWarning)\n"
     ]
    },
    {
     "name": "stdout",
     "output_type": "stream",
     "text": [
      "Step :  3 / 60\n"
     ]
    },
    {
     "name": "stderr",
     "output_type": "stream",
     "text": [
      "c:\\users\\siddharth\\appdata\\local\\programs\\python\\python37-32\\lib\\site-packages\\sklearn\\neural_network\\multilayer_perceptron.py:566: ConvergenceWarning: Stochastic Optimizer: Maximum iterations (1000) reached and the optimization hasn't converged yet.\n",
      "  % self.max_iter, ConvergenceWarning)\n"
     ]
    },
    {
     "name": "stdout",
     "output_type": "stream",
     "text": [
      "Step :  4 / 60\n",
      "Step :  5 / 60\n"
     ]
    },
    {
     "name": "stderr",
     "output_type": "stream",
     "text": [
      "c:\\users\\siddharth\\appdata\\local\\programs\\python\\python37-32\\lib\\site-packages\\sklearn\\neural_network\\multilayer_perceptron.py:566: ConvergenceWarning: Stochastic Optimizer: Maximum iterations (1000) reached and the optimization hasn't converged yet.\n",
      "  % self.max_iter, ConvergenceWarning)\n"
     ]
    },
    {
     "name": "stdout",
     "output_type": "stream",
     "text": [
      "Step :  6 / 60\n",
      "Step :  7 / 60\n",
      "Step :  8 / 60\n",
      "Step :  9 / 60\n",
      "Step :  10 / 60\n"
     ]
    },
    {
     "name": "stderr",
     "output_type": "stream",
     "text": [
      "c:\\users\\siddharth\\appdata\\local\\programs\\python\\python37-32\\lib\\site-packages\\sklearn\\neural_network\\multilayer_perceptron.py:566: ConvergenceWarning: Stochastic Optimizer: Maximum iterations (1000) reached and the optimization hasn't converged yet.\n",
      "  % self.max_iter, ConvergenceWarning)\n"
     ]
    },
    {
     "name": "stdout",
     "output_type": "stream",
     "text": [
      "Step :  11 / 60\n"
     ]
    },
    {
     "name": "stderr",
     "output_type": "stream",
     "text": [
      "c:\\users\\siddharth\\appdata\\local\\programs\\python\\python37-32\\lib\\site-packages\\sklearn\\neural_network\\multilayer_perceptron.py:566: ConvergenceWarning: Stochastic Optimizer: Maximum iterations (1000) reached and the optimization hasn't converged yet.\n",
      "  % self.max_iter, ConvergenceWarning)\n"
     ]
    },
    {
     "name": "stdout",
     "output_type": "stream",
     "text": [
      "Step :  12 / 60\n"
     ]
    },
    {
     "name": "stderr",
     "output_type": "stream",
     "text": [
      "c:\\users\\siddharth\\appdata\\local\\programs\\python\\python37-32\\lib\\site-packages\\sklearn\\neural_network\\multilayer_perceptron.py:566: ConvergenceWarning: Stochastic Optimizer: Maximum iterations (1000) reached and the optimization hasn't converged yet.\n",
      "  % self.max_iter, ConvergenceWarning)\n"
     ]
    },
    {
     "name": "stdout",
     "output_type": "stream",
     "text": [
      "Step :  13 / 60\n"
     ]
    },
    {
     "name": "stderr",
     "output_type": "stream",
     "text": [
      "c:\\users\\siddharth\\appdata\\local\\programs\\python\\python37-32\\lib\\site-packages\\sklearn\\neural_network\\multilayer_perceptron.py:566: ConvergenceWarning: Stochastic Optimizer: Maximum iterations (1000) reached and the optimization hasn't converged yet.\n",
      "  % self.max_iter, ConvergenceWarning)\n"
     ]
    },
    {
     "name": "stdout",
     "output_type": "stream",
     "text": [
      "Step :  14 / 60\n"
     ]
    },
    {
     "name": "stderr",
     "output_type": "stream",
     "text": [
      "c:\\users\\siddharth\\appdata\\local\\programs\\python\\python37-32\\lib\\site-packages\\sklearn\\neural_network\\multilayer_perceptron.py:566: ConvergenceWarning: Stochastic Optimizer: Maximum iterations (1000) reached and the optimization hasn't converged yet.\n",
      "  % self.max_iter, ConvergenceWarning)\n"
     ]
    },
    {
     "name": "stdout",
     "output_type": "stream",
     "text": [
      "Step :  15 / 60\n",
      "Step :  16 / 60\n"
     ]
    },
    {
     "name": "stderr",
     "output_type": "stream",
     "text": [
      "c:\\users\\siddharth\\appdata\\local\\programs\\python\\python37-32\\lib\\site-packages\\sklearn\\neural_network\\multilayer_perceptron.py:566: ConvergenceWarning: Stochastic Optimizer: Maximum iterations (1000) reached and the optimization hasn't converged yet.\n",
      "  % self.max_iter, ConvergenceWarning)\n"
     ]
    },
    {
     "name": "stdout",
     "output_type": "stream",
     "text": [
      "Step :  17 / 60\n",
      "Step :  18 / 60\n"
     ]
    },
    {
     "name": "stderr",
     "output_type": "stream",
     "text": [
      "c:\\users\\siddharth\\appdata\\local\\programs\\python\\python37-32\\lib\\site-packages\\sklearn\\neural_network\\multilayer_perceptron.py:566: ConvergenceWarning: Stochastic Optimizer: Maximum iterations (1000) reached and the optimization hasn't converged yet.\n",
      "  % self.max_iter, ConvergenceWarning)\n"
     ]
    },
    {
     "name": "stdout",
     "output_type": "stream",
     "text": [
      "Step :  19 / 60\n"
     ]
    },
    {
     "name": "stderr",
     "output_type": "stream",
     "text": [
      "c:\\users\\siddharth\\appdata\\local\\programs\\python\\python37-32\\lib\\site-packages\\sklearn\\neural_network\\multilayer_perceptron.py:566: ConvergenceWarning: Stochastic Optimizer: Maximum iterations (1000) reached and the optimization hasn't converged yet.\n",
      "  % self.max_iter, ConvergenceWarning)\n"
     ]
    },
    {
     "name": "stdout",
     "output_type": "stream",
     "text": [
      "Step :  20 / 60\n",
      "Step :  21 / 60\n",
      "Step :  22 / 60\n",
      "Step :  23 / 60\n",
      "Step :  24 / 60\n",
      "Step :  25 / 60\n"
     ]
    },
    {
     "name": "stderr",
     "output_type": "stream",
     "text": [
      "c:\\users\\siddharth\\appdata\\local\\programs\\python\\python37-32\\lib\\site-packages\\sklearn\\neural_network\\multilayer_perceptron.py:566: ConvergenceWarning: Stochastic Optimizer: Maximum iterations (2000) reached and the optimization hasn't converged yet.\n",
      "  % self.max_iter, ConvergenceWarning)\n"
     ]
    },
    {
     "name": "stdout",
     "output_type": "stream",
     "text": [
      "Step :  26 / 60\n",
      "Step :  27 / 60\n",
      "Step :  28 / 60\n",
      "Step :  29 / 60\n",
      "Step :  30 / 60\n",
      "Step :  31 / 60\n"
     ]
    },
    {
     "name": "stderr",
     "output_type": "stream",
     "text": [
      "c:\\users\\siddharth\\appdata\\local\\programs\\python\\python37-32\\lib\\site-packages\\sklearn\\neural_network\\multilayer_perceptron.py:566: ConvergenceWarning: Stochastic Optimizer: Maximum iterations (2000) reached and the optimization hasn't converged yet.\n",
      "  % self.max_iter, ConvergenceWarning)\n"
     ]
    },
    {
     "name": "stdout",
     "output_type": "stream",
     "text": [
      "Step :  32 / 60\n",
      "Step :  33 / 60\n",
      "Step :  34 / 60\n",
      "Step :  35 / 60\n",
      "Step :  36 / 60\n",
      "Step :  37 / 60\n",
      "Step :  38 / 60\n",
      "Step :  39 / 60\n",
      "Step :  40 / 60\n",
      "Step :  41 / 60\n",
      "Step :  42 / 60\n",
      "Step :  43 / 60\n",
      "Step :  44 / 60\n",
      "Step :  45 / 60\n",
      "Step :  46 / 60\n",
      "Step :  47 / 60\n",
      "Step :  48 / 60\n",
      "Step :  49 / 60\n",
      "Step :  50 / 60\n",
      "Step :  51 / 60\n",
      "Step :  52 / 60\n",
      "Step :  53 / 60\n",
      "Step :  54 / 60\n",
      "Step :  55 / 60\n",
      "Step :  56 / 60\n",
      "Step :  57 / 60\n",
      "Step :  58 / 60\n",
      "Step :  59 / 60\n",
      "Step :  60 / 60\n"
     ]
    }
   ],
   "source": [
    "#Parametrs to change for experiment\n",
    "max_iterations_list = [1000,2000,3000]\n",
    "number_of_iterations = len(max_iterations_list)\n",
    "\n",
    "activationFunctions = ['identity', 'logistic', 'tanh', 'relu']\n",
    "numberOfActivationFunction = len(activationFunctions)\n",
    "\n",
    "hidden_layer_values = [3,4,5,6,7]\n",
    "numberOfHiddenLayers = len(hidden_layer_values)\n",
    "\n",
    "#FinalValueToStore\n",
    "finalActivationList = []\n",
    "finalHiddenLayerList = []\n",
    "finalAccuracyList = []\n",
    "\n",
    "count = 0\n",
    "\n",
    "for h in range(0,number_of_iterations):\n",
    "    for i in range(0,numberOfActivationFunction):\n",
    "        for j in range(0,numberOfHiddenLayers):\n",
    "            clf = MLPClassifier(activation = activationFunctions[i],\n",
    "                            hidden_layer_sizes=(hidden_layer_values[j],3),\n",
    "                                                    random_state=1,max_iter = max_iterations_list[h])\n",
    "            clf.fit(X_Train, Y_Train) \n",
    "            predicted_classes = clf.predict(X_Test)\n",
    "            accuracyValue = accuracy_score(Y_Test,predicted_classes)\n",
    "        \n",
    "            finalActivationList.append(activationFunctions[i])\n",
    "            finalHiddenLayerList.append(hidden_layer_values[j])\n",
    "        \n",
    "            finalAccuracyList.append(accuracyValue)\n",
    "            count = count + 1\n",
    "            print(\"Step : \",count, \"/\",(numberOfActivationFunction * numberOfHiddenLayers * number_of_iterations))"
   ]
  },
  {
   "cell_type": "markdown",
   "metadata": {},
   "source": [
    "# Part 2(iv) : Validation set - Activation Functions, Number of nodes, Hidden layers - 2 hidden layers and respective units in the hidden layer - Plot"
   ]
  },
  {
   "cell_type": "code",
   "execution_count": 72,
   "metadata": {},
   "outputs": [
    {
     "data": {
      "image/png": "[encoded data removed]",
      "text/plain": [
       "<Figure size 1440x360 with 3 Axes>"
      ]
     },
     "metadata": {
      "needs_background": "light"
     },
     "output_type": "display_data"
    }
   ],
   "source": [
    "hidden_layer_values = [3,4,5,6,7]\n",
    "plt.figure(figsize=(20,5))\n",
    "subplot(1,3,1)\n",
    "\n",
    "plt.plot(hidden_layer_values, finalAccuracyList[0:5], color='red', label='Identity')\n",
    "plt.plot(hidden_layer_values, finalAccuracyList[5:10], color='green', label='Logistic')\n",
    "plt.plot(hidden_layer_values, finalAccuracyList[10:15], color='blue', label='Tanh')\n",
    "plt.plot(hidden_layer_values, finalAccuracyList[15:20], color='orange', label='Relu')\n",
    "plt.xlabel('Hidden layer units')\n",
    "plt.ylabel('Accuracy')\n",
    "plt.ylim(0.60,0.77)\n",
    "plt.legend()\n",
    "plt.title('Max Iterations:1000', y=-0.25)\n",
    "\n",
    "subplot(1,3,2)\n",
    "plt.plot(hidden_layer_values, finalAccuracyList[20:25], color='red', label='Identity')\n",
    "plt.plot(hidden_layer_values, finalAccuracyList[25:30], color='green', label='Logistic')\n",
    "plt.plot(hidden_layer_values, finalAccuracyList[30:35], color='blue', label='Tanh')\n",
    "plt.plot(hidden_layer_values, finalAccuracyList[35:40], color='orange', label='Relu')\n",
    "plt.xlabel('Hidden layer units')\n",
    "plt.ylabel('Accuracy')\n",
    "plt.ylim(0.60,0.77)\n",
    "plt.legend()\n",
    "plt.title('Max Iterations:2000', y=-0.25)\n",
    "\n",
    "subplot(1,3,3)\n",
    "plt.plot(hidden_layer_values, finalAccuracyList[40:45], color='red', label='Identity')\n",
    "plt.plot(hidden_layer_values, finalAccuracyList[45:50], color='green', label='Logistic')\n",
    "plt.plot(hidden_layer_values, finalAccuracyList[50:55], color='blue', label='Tanh')\n",
    "plt.plot(hidden_layer_values, finalAccuracyList[55:60], color='orange', label='Relu')\n",
    "plt.xlabel('Hidden layer units')\n",
    "plt.ylabel('Accuracy')\n",
    "plt.ylim(0.60,0.77)\n",
    "plt.legend()\n",
    "plt.title('Max Iterations:3000', y=-0.25)\n",
    "\n",
    "\n",
    "plt.show()"
   ]
  },
  {
   "cell_type": "markdown",
   "metadata": {},
   "source": [
    "# Part 3(i) - Chart for train data size vs Accuracy"
   ]
  },
  {
   "cell_type": "code",
   "execution_count": 73,
   "metadata": {},
   "outputs": [
    {
     "data": {
      "image/png": "[encoded data removed]",
      "text/plain": [
       "<Figure size 1440x360 with 1 Axes>"
      ]
     },
     "metadata": {
      "needs_background": "light"
     },
     "output_type": "display_data"
    }
   ],
   "source": [
    "clf = MLPClassifier(activation = 'tanh',\n",
    "                            hidden_layer_sizes=(4,3), random_state=1,max_iter = 3000)\n",
    "rangeValues = [300,400,500,600,700]\n",
    "accuracy_train_size = []\n",
    "for i in range(0,len(rangeValues)):\n",
    "    clf.fit(X_Train[0:rangeValues[i]], Y_Train[0:rangeValues[i]])\n",
    "    predicted_classes = clf.predict(X_Test[0:rangeValues[i]])\n",
    "    accuracyValue = accuracy_score(Y_Test[0:rangeValues[i]],predicted_classes)\n",
    "    accuracy_train_size.append(accuracyValue)\n",
    "\n",
    "#graph\n",
    "plt.figure(figsize=(20,5))\n",
    "subplot(1,1,1)\n",
    "plt.plot(rangeValues, accuracy_train_size, color='red', label='Size of train data')\n",
    "\n",
    "plt.xlabel('Train size')\n",
    "plt.ylabel('Accuracy')\n",
    "plt.legend()\n",
    "plt.title('Train data vs Accuracy', y=-0.25)\n",
    "\n",
    "plt.show()"
   ]
  },
  {
   "cell_type": "markdown",
   "metadata": {},
   "source": [
    "# Part 3(ii) - Cross validation"
   ]
  },
  {
   "cell_type": "code",
   "execution_count": 74,
   "metadata": {},
   "outputs": [
    {
     "data": {
      "image/png": "[encoded data removed]",
      "text/plain": [
       "<Figure size 1440x360 with 1 Axes>"
      ]
     },
     "metadata": {
      "needs_background": "light"
     },
     "output_type": "display_data"
    }
   ],
   "source": [
    "clf = MLPClassifier(activation = 'tanh',\n",
    "                            hidden_layer_sizes=(4,3), random_state=1,max_iter = 3000)\n",
    "clf.fit(X_Train, Y_Train)\n",
    "score = cross_val_score(neigh,X_Train,Y_Train, cv=5,scoring='accuracy')\n",
    "steps = [1,2,3,4,5]\n",
    "#graph\n",
    "plt.figure(figsize=(20,5))\n",
    "subplot(1,1,1)\n",
    "plt.plot(steps, score, color='red', label='Cross')\n",
    "\n",
    "plt.xlabel('Cross')\n",
    "plt.ylabel('Accuracy')\n",
    "plt.legend()\n",
    "plt.title('Cross vs Accuracy', y=-0.25)\n",
    "\n",
    "plt.show()"
   ]
  },
  {
   "cell_type": "markdown",
   "metadata": {},
   "source": [
    "# Part 4(i) Confusion Matrix"
   ]
  },
  {
   "cell_type": "code",
   "execution_count": 77,
   "metadata": {},
   "outputs": [
    {
     "data": {
      "text/plain": [
       "array([[129,  36,  12],\n",
       "       [ 20, 113,   6],\n",
       "       [  7,   0,  17]], dtype=int64)"
      ]
     },
     "execution_count": 77,
     "metadata": {},
     "output_type": "execute_result"
    }
   ],
   "source": [
    "clf = MLPClassifier(activation = 'tanh',\n",
    "                            hidden_layer_sizes=(4,3), random_state=1,max_iter = 3000)\n",
    "clf.fit(X_Train, Y_Train)\n",
    "predicted_classes = clf.predict(X_Test)\n",
    "\n",
    "cm = confusion_matrix(Y_Test, predicted_classes)\n",
    "cm\n"
   ]
  },
  {
   "cell_type": "markdown",
   "metadata": {},
   "source": [
    "# Part 4(ii) Other parameters"
   ]
  },
  {
   "cell_type": "code",
   "execution_count": 78,
   "metadata": {},
   "outputs": [
    {
     "name": "stdout",
     "output_type": "stream",
     "text": [
      "Accuracy 0.711764705882353\n",
      "Sensitivity 0.849624060150376\n",
      "Specificity 0.7818181818181819\n",
      "Precision 0.7583892617449665\n"
     ]
    }
   ],
   "source": [
    "print(\"Accuracy\", (cm[1][1] + cm[0][0]) / np.sum(cm) )\n",
    "print(\"Sensitivity\", cm[1][1] / (cm[1][1] + cm[1][0] ))\n",
    "print(\"Specificity\", cm[0][0] / (cm[0][0] + cm[0][1] ))\n",
    "print(\"Precision\", cm[1][1] / (cm[1][1] + cm[0][1] ))"
   ]
  },
  {
   "cell_type": "code",
   "execution_count": null,
   "metadata": {},
   "outputs": [],
   "source": []
  }
 ],
 "metadata": {
  "kernelspec": {
   "display_name": "Python 3",
   "language": "python",
   "name": "python3"
  },
  "language_info": {
   "codemirror_mode": {
    "name": "ipython",
    "version": 3
   },
   "file_extension": ".py",
   "mimetype": "text/x-python",
   "name": "python",
   "nbconvert_exporter": "python",
   "pygments_lexer": "ipython3",
   "version": "3.7.3"
  }
 },
 "nbformat": 4,
 "nbformat_minor": 2
}
